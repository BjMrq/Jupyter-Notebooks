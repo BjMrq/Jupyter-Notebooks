{
 "cells": [
  {
   "cell_type": "code",
   "execution_count": null,
   "metadata": {},
   "outputs": [],
   "source": [
    "import os\n",
    "import boto3\n",
    "import pandas as pd\n",
    "import numpy as np\n",
    "from dotenv import load_dotenv\n",
    "\n",
    "# Load environement variables\n",
    "load_dotenv()\n",
    "\n",
    "campus_name = \"LaSalle\"\n",
    "\n",
    "path = os.getcwd()\n",
    "\n",
    "# Get id\n",
    "aws_id = os.environ.get('AWSAccessKeyId')\n",
    "aws_secret = os.environ.get('AWSSecretKey')\n",
    "\n",
    "# Get Bucket\n",
    "key='last_week_leads.csv'\n",
    "bucket_name='lcieducationleads'\n",
    "\n",
    "\n",
    "# Initialitiong connection with S3\n",
    "client = boto3.client('s3', aws_access_key_id=aws_id,\n",
    "                              aws_secret_access_key=aws_secret)\n",
    "\n",
    "object = client.get_object(Bucket=bucket_name, Key=key)\n",
    "\n",
    "df = pd.read_csv(object['Body'])"
   ]
  }
 ],
 "metadata": {
  "kernelspec": {
   "display_name": "Python 3",
   "language": "python",
   "name": "python3"
  },
  "language_info": {
   "codemirror_mode": {
    "name": "ipython",
    "version": 3
   },
   "file_extension": ".py",
   "mimetype": "text/x-python",
   "name": "python",
   "nbconvert_exporter": "python",
   "pygments_lexer": "ipython3",
   "version": "3.7.1"
  }
 },
 "nbformat": 4,
 "nbformat_minor": 2
}
